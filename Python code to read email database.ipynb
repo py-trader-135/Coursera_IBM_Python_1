{
    "cells": [
        {
            "cell_type": "markdown",
            "metadata": {},
            "source": "# This is code creates the emaildb database from flat file"
        },
        {
            "cell_type": "code",
            "execution_count": 1,
            "metadata": {},
            "outputs": [
                {
                    "name": "stdout",
                    "output_type": "stream",
                    "text": "Enter file name:\n"
                },
                {
                    "ename": "FileNotFoundError",
                    "evalue": "[Errno 2] No such file or directory: 'mbox-short.txt'",
                    "output_type": "error",
                    "traceback": [
                        "\u001b[0;31m---------------------------------------------------------------------------\u001b[0m",
                        "\u001b[0;31mFileNotFoundError\u001b[0m                         Traceback (most recent call last)",
                        "\u001b[0;32m<ipython-input-1-245ff58b5e8f>\u001b[0m in \u001b[0;36m<module>\u001b[0;34m\u001b[0m\n\u001b[1;32m     23\u001b[0m     \u001b[0mf_name\u001b[0m \u001b[0;34m=\u001b[0m \u001b[0;34m'mbox-short.txt'\u001b[0m\u001b[0;34m\u001b[0m\u001b[0;34m\u001b[0m\u001b[0m\n\u001b[1;32m     24\u001b[0m \u001b[0;34m\u001b[0m\u001b[0m\n\u001b[0;32m---> 25\u001b[0;31m \u001b[0mf_handle\u001b[0m \u001b[0;34m=\u001b[0m \u001b[0mopen\u001b[0m\u001b[0;34m(\u001b[0m\u001b[0mf_name\u001b[0m\u001b[0;34m)\u001b[0m\u001b[0;34m\u001b[0m\u001b[0;34m\u001b[0m\u001b[0m\n\u001b[0m\u001b[1;32m     26\u001b[0m \u001b[0;32mfor\u001b[0m \u001b[0mline\u001b[0m \u001b[0;32min\u001b[0m \u001b[0mf_handle\u001b[0m\u001b[0;34m:\u001b[0m\u001b[0;34m\u001b[0m\u001b[0;34m\u001b[0m\u001b[0m\n\u001b[1;32m     27\u001b[0m     \u001b[0;32mif\u001b[0m \u001b[0;32mnot\u001b[0m \u001b[0mline\u001b[0m\u001b[0;34m.\u001b[0m\u001b[0mstartswith\u001b[0m\u001b[0;34m(\u001b[0m\u001b[0;34m'From: '\u001b[0m\u001b[0;34m)\u001b[0m\u001b[0;34m:\u001b[0m\u001b[0;34m\u001b[0m\u001b[0;34m\u001b[0m\u001b[0m\n",
                        "\u001b[0;31mFileNotFoundError\u001b[0m: [Errno 2] No such file or directory: 'mbox-short.txt'"
                    ]
                }
            ],
            "source": "\"\"\"\nCreated on Wed Jul 28 08:07:56 2021\n\n@author: cbaku\n\nClass Examples: Relational Databases using SQLite\n\n\"\"\"\n\nimport sqlite3\n\nsql_handle = sqlite3.connect('emaildb.sqlite')    #create the file when it runs\nsql_crsr = sql_handle.cursor()\n\nsql_crsr.execute('''\n                 DROP TABLE IF EXISTS Counts''')\n                 \nsql_crsr.execute('''\n                 CREATE TABLE Counts (email TEXT, count INTEGER)''')\n\nf_name = input('Enter file name:')\nif (len(f_name) < 1):\n    f_name = 'mbox-short.txt'\n\nf_handle = open(f_name)\nfor line in f_handle:\n    if not line.startswith('From: '):\n        continue\n    words = line.split()\n    email_address = words[1]\n    sql_crsr.execute('''SELECT count FROM Counts WHERE email = ?''', \\\n                     (email_address,))\n    # DO NOT USE string addition 'SELECT ... + email_address' for constructing\n    # this sql statement as it can enable SQL injection\n    #\n    # (email_address,) is a one member tuple used as a parameter\n    # The cursor helps to get to the specific record with in the database\n    sql_row = sql_crsr.fetchone()\n    if sql_row is None:\n        sql_crsr.execute('''INSERT INTO Counts (email, count) \\\n                 VALUES (?,1)''', (email_address,))\n    else:\n        sql_crsr.execute('''UPDATE Counts SET count = count +1 \\\n                         WHERE email = ?''', (email_address,))\n                         \n    # updating a value using a SQL statement is better than fetching\n    # the value, incrementing it in Python and them updating the new\n    # value in SQL. The reason is other applications may be trying to update\n    # the same table at that time. UPDATEing at the database level will\n    # keep the process in sync with other processes. It will be ATOMic.\n    \n    sql_handle.commit()\n\n# print the contents of the count statement\n#\n#sql_str = '''SELECT email, count FROM Counts \\\n#                ORDER BY email \\\n#                LIMIT 20 '''\n\nsql_str = '''SELECT email, count FROM Counts \\\n                ORDER BY count DESC \\\n                LIMIT 20 '''\n\nfor row in sql_crsr.execute(sql_str):\n    print(str(row[0]),row[1])\n    \nsql_crsr.close()\n            "
        },
        {
            "cell_type": "code",
            "execution_count": null,
            "metadata": {},
            "outputs": [],
            "source": ""
        }
    ],
    "metadata": {
        "kernelspec": {
            "display_name": "Python 3.8",
            "language": "python",
            "name": "python3"
        },
        "language_info": {
            "codemirror_mode": {
                "name": "ipython",
                "version": 3
            },
            "file_extension": ".py",
            "mimetype": "text/x-python",
            "name": "python",
            "nbconvert_exporter": "python",
            "pygments_lexer": "ipython3",
            "version": "3.8.10"
        }
    },
    "nbformat": 4,
    "nbformat_minor": 1
}